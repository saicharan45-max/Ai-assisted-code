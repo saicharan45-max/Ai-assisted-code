{
  "nbformat": 4,
  "nbformat_minor": 0,
  "metadata": {
    "colab": {
      "provenance": [],
      "authorship_tag": "ABX9TyP6CT2BBxI2CvM89F5olsAg",
      "include_colab_link": true
    },
    "kernelspec": {
      "name": "python3",
      "display_name": "Python 3"
    },
    "language_info": {
      "name": "python"
    }
  },
  "cells": [
    {
      "cell_type": "markdown",
      "metadata": {
        "id": "view-in-github",
        "colab_type": "text"
      },
      "source": [
        "<a href=\"https://colab.research.google.com/github/saicharan45-max/Ai-assisted-code/blob/main/3.3.task4.ipynb\" target=\"_parent\"><img src=\"https://colab.research.google.com/assets/colab-badge.svg\" alt=\"Open In Colab\"/></a>"
      ]
    },
    {
      "cell_type": "code",
      "execution_count": null,
      "metadata": {
        "id": "xNzkbYIaJdxv"
      },
      "outputs": [],
      "source": []
    },
    {
      "cell_type": "code",
      "metadata": {
        "id": "07de67cc"
      },
      "source": [
        "\n"
      ],
      "execution_count": null,
      "outputs": []
    },
    {
      "cell_type": "code",
      "metadata": {
        "id": "07ecc571"
      },
      "source": [
        "\n"
      ],
      "execution_count": null,
      "outputs": []
    },
    {
      "cell_type": "code",
      "source": [
        "# Simulate a user database\n",
        "users_db = {}\n",
        "\n",
        "def register_user(username, password):\n",
        "  \"\"\"Registers a new user.\"\"\"\n",
        "  if username in users_db:\n",
        "    return False, \"User already exists.\"\n",
        "  users_db[username] = password\n",
        "  return True, \"User registered successfully.\"\n",
        "\n",
        "def login_user(username, password):\n",
        "  \"\"\"Logs in an existing user.\"\"\"\n",
        "  if username not in users_db:\n",
        "    return False, \"User not found.\"\n",
        "  if users_db[username] != password:\n",
        "    return False, \"Incorrect password.\"\n",
        "  return True, \"Login successful.\"\n",
        "\n",
        "# Example usage:\n",
        "registration_success, registration_message = register_user(\"testuser\", \"password123\")\n",
        "print(f\"Registration: {registration_message}\")\n",
        "\n",
        "login_success, login_message = login_user(\"testuser\", \"password123\")\n",
        "print(f\"Login: {login_message}\")\n",
        "\n",
        "login_success, login_message = login_user(\"testuser\", \"wrongpassword\")\n",
        "print(f\"Login: {login_message}\")\n",
        "\n",
        "registration_success, registration_message = register_user(\"testuser\", \"anotherpassword\")\n",
        "print(f\"Registration: {registration_message}\")"
      ],
      "metadata": {
        "id": "QGcULflcMJS0"
      },
      "execution_count": null,
      "outputs": []
    }
  ]
}