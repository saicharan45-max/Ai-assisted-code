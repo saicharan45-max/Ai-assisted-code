{
  "nbformat": 4,
  "nbformat_minor": 0,
  "metadata": {
    "colab": {
      "provenance": [],
      "authorship_tag": "ABX9TyNa5VRU+2MeiIvXfXl4Yw2O",
      "include_colab_link": true
    },
    "kernelspec": {
      "name": "python3",
      "display_name": "Python 3"
    },
    "language_info": {
      "name": "python"
    }
  },
  "cells": [
    {
      "cell_type": "markdown",
      "metadata": {
        "id": "view-in-github",
        "colab_type": "text"
      },
      "source": [
        "<a href=\"https://colab.research.google.com/github/saicharan45-max/Ai-assisted-code/blob/main/3.3task1.ipynb\" target=\"_parent\"><img src=\"https://colab.research.google.com/assets/colab-badge.svg\" alt=\"Open In Colab\"/></a>"
      ]
    },
    {
      "cell_type": "code",
      "execution_count": null,
      "metadata": {
        "id": "obD9FW93I4rO"
      },
      "outputs": [],
      "source": []
    },
    {
      "cell_type": "code",
      "metadata": {
        "id": "2734cd9c"
      },
      "source": [
        "# Recursive approach\n",
        "def factorial_recursive(n):\n",
        "    if n == 0:\n",
        "        return 1\n",
        "    else:\n",
        "        return n * factorial_recursive(n - 1)\n",
        "\n",
        "print(\"Factorial of 5 (recursive):\", factorial_recursive(5))"
      ],
      "execution_count": null,
      "outputs": []
    },
    {
      "cell_type": "code",
      "metadata": {
        "id": "9f8d54ea"
      },
      "source": [
        "# Iterative approach with for loop\n",
        "def factorial_iterative_for(n):\n",
        "    result = 1\n",
        "    for i in range(1, n + 1):\n",
        "        result *= i\n",
        "    return result\n",
        "\n",
        "print(\"Factorial of 5 (iterative with for loop):\", factorial_iterative_for(5))"
      ],
      "execution_count": null,
      "outputs": []
    },
    {
      "cell_type": "code",
      "metadata": {
        "id": "389f244e"
      },
      "source": [
        "# Iterative approach with while loop\n",
        "def factorial_iterative_while(n):\n",
        "    result = 1\n",
        "    i = 1\n",
        "    while i <= n:\n",
        "        result *= i\n",
        "        i += 1\n",
        "    return result\n",
        "\n",
        "print(\"Factorial of 5 (iterative with while loop):\", factorial_iterative_while(5))"
      ],
      "execution_count": null,
      "outputs": []
    }
  ]
}