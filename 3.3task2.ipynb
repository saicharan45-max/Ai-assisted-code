{
  "nbformat": 4,
  "nbformat_minor": 0,
  "metadata": {
    "colab": {
      "provenance": [],
      "authorship_tag": "ABX9TyN0yALI4QTd0B3I7/X8Ke5k",
      "include_colab_link": true
    },
    "kernelspec": {
      "name": "python3",
      "display_name": "Python 3"
    },
    "language_info": {
      "name": "python"
    }
  },
  "cells": [
    {
      "cell_type": "markdown",
      "metadata": {
        "id": "view-in-github",
        "colab_type": "text"
      },
      "source": [
        "<a href=\"https://colab.research.google.com/github/saicharan45-max/Ai-assisted-code/blob/main/3.3task2.ipynb\" target=\"_parent\"><img src=\"https://colab.research.google.com/assets/colab-badge.svg\" alt=\"Open In Colab\"/></a>"
      ]
    },
    {
      "cell_type": "code",
      "execution_count": null,
      "metadata": {
        "id": "obD9FW93I4rO"
      },
      "outputs": [],
      "source": []
    },
    {
      "cell_type": "code",
      "metadata": {
        "id": "09c93946"
      },
      "source": [
        "def bubble_sort(arr):\n",
        "    n = len(arr)\n",
        "    for i in range(n):\n",
        "        # Last i elements are already in place\n",
        "        for j in range(0, n - i - 1):\n",
        "            # Traverse the array from 0 to n-i-1\n",
        "            # Swap if the element found is greater than the next element\n",
        "            if arr[j] > arr[j + 1]:\n",
        "                arr[j], arr[j + 1] = arr[j + 1], arr[j]\n",
        "    return arr\n",
        "\n",
        "# Example usage:\n",
        "my_list = [64, 34, 25, 12, 22, 11, 90]\n",
        "sorted_list = bubble_sort(my_list)\n",
        "print(\"Sorted array is:\", sorted_list)\n",
        "\n",
        "# Using Python's built-in sort method (more efficient)\n",
        "my_list_2 = [64, 34, 25, 12, 22, 11, 90]\n",
        "my_list_2.sort()\n",
        "print(\"Sorted array using built-in sort():\", my_list_2)\n",
        "\n",
        "# Using Python's built-in sorted() function (returns a new sorted list)\n",
        "my_list_3 = [64, 34, 25, 12, 22, 11, 90]\n",
        "sorted_list_3 = sorted(my_list_3)\n",
        "print(\"Sorted array using built-in sorted():\", sorted_list_3)"
      ],
      "execution_count": null,
      "outputs": []
    }
  ]
}