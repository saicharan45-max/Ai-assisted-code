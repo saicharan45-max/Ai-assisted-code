{
  "nbformat": 4,
  "nbformat_minor": 0,
  "metadata": {
    "colab": {
      "provenance": [],
      "authorship_tag": "ABX9TyPuFbOIz3Yn7Ypq5DsElzMA",
      "include_colab_link": true
    },
    "kernelspec": {
      "name": "python3",
      "display_name": "Python 3"
    },
    "language_info": {
      "name": "python"
    }
  },
  "cells": [
    {
      "cell_type": "markdown",
      "metadata": {
        "id": "view-in-github",
        "colab_type": "text"
      },
      "source": [
        "<a href=\"https://colab.research.google.com/github/saicharan45-max/Ai-assisted-code/blob/main/3.3task3.ipynb\" target=\"_parent\"><img src=\"https://colab.research.google.com/assets/colab-badge.svg\" alt=\"Open In Colab\"/></a>"
      ]
    },
    {
      "cell_type": "code",
      "execution_count": null,
      "metadata": {
        "id": "xNzkbYIaJdxv"
      },
      "outputs": [],
      "source": []
    },
    {
      "cell_type": "code",
      "metadata": {
        "id": "07de67cc"
      },
      "source": [
        "def calculate_power_bill_tiered(consumption_kwh, tiers):\n",
        "  \"\"\"Calculates a power bill with tiered pricing.\n",
        "\n",
        "  Args:\n",
        "    consumption_kwh: Energy consumption in kilowatt-hours.\n",
        "    tiers: A list of tuples, where each tuple is (limit, rate).\n",
        "           The tiers should be sorted by limit in ascending order.\n",
        "\n",
        "  Returns:\n",
        "    The total power bill amount.\n",
        "  \"\"\"\n",
        "  total_bill = 0\n",
        "  remaining_consumption = consumption_kwh\n",
        "\n",
        "  for limit, rate in tiers:\n",
        "    if remaining_consumption <= 0:\n",
        "      break\n",
        "    if remaining_consumption <= limit:\n",
        "      total_bill += remaining_consumption * rate\n",
        "      remaining_consumption = 0\n",
        "    else:\n",
        "      total_bill += limit * rate\n",
        "      remaining_consumption -= limit\n",
        "\n",
        "  return total_bill\n",
        "\n",
        "# Example usage with tiers:\n",
        "# Tier 1: First 300 kWh at $0.10/kWh\n",
        "# Tier 2: Next 300 kWh at $0.12/kWh\n",
        "# Tier 3: Above 600 kWh at $0.15/kWh\n",
        "tiers = [(300, 0.10), (300, 0.12), (float('inf'), 0.15)]\n",
        "consumption = 700 # kWh\n",
        "bill_tiered = calculate_power_bill_tiered(consumption, tiers)\n",
        "print(f\"Tiered power bill: ${bill_tiered:.2f}\")"
      ],
      "execution_count": null,
      "outputs": []
    },
    {
      "cell_type": "code",
      "metadata": {
        "id": "07ecc571"
      },
      "source": [
        "def calculate_power_bill_fixed(consumption_kwh, tiers, fixed_charge):\n",
        "  \"\"\"Calculates a power bill with tiered pricing and a fixed charge.\n",
        "\n",
        "  Args:\n",
        "    consumption_kwh: Energy consumption in kilowatt-hours.\n",
        "    tiers: A list of tuples, where each tuple is (limit, rate).\n",
        "           The tiers should be sorted by limit in ascending order.\n",
        "    fixed_charge: A fixed charge amount.\n",
        "\n",
        "  Returns:\n",
        "    The total power bill amount.\n",
        "  \"\"\"\n",
        "  total_bill = 0\n",
        "  remaining_consumption = consumption_kwh\n",
        "\n",
        "  for limit, rate in tiers:\n",
        "    if remaining_consumption <= 0:\n",
        "      break\n",
        "    if remaining_consumption <= limit:\n",
        "      total_bill += remaining_consumption * rate\n",
        "      remaining_consumption = 0\n",
        "    else:\n",
        "      total_bill += limit * rate\n",
        "      remaining_consumption -= limit\n",
        "\n",
        "  total_bill += fixed_charge\n",
        "  return total_bill\n",
        "\n",
        "# Example usage with tiers and fixed charge:\n",
        "tiers = [(300, 0.10), (300, 0.12), (float('inf'), 0.15)]\n",
        "consumption = 700 # kWh\n",
        "fixed_charge = 10 # $\n",
        "bill_fixed = calculate_power_bill_fixed(consumption, tiers, fixed_charge)\n",
        "print(f\"Power bill with tiered pricing and fixed charge: ${bill_fixed:.2f}\")"
      ],
      "execution_count": null,
      "outputs": []
    },
    {
      "cell_type": "code",
      "metadata": {
        "id": "ee57ce52"
      },
      "source": [
        "def calculate_power_bill_with_tax(consumption_kwh, tiers, fixed_charge, tax_rate):\n",
        "  \"\"\"Calculates a power bill with tiered pricing, fixed charge, and tax.\n",
        "\n",
        "  Args:\n",
        "    consumption_kwh: Energy consumption in kilowatt-hours.\n",
        "    tiers: A list of tuples, where each tuple is (limit, rate).\n",
        "           The tiers should be sorted by limit in ascending order.\n",
        "    fixed_charge: A fixed charge amount.\n",
        "    tax_rate: The tax rate as a decimal (e.g., 0.05 for 5%).\n",
        "\n",
        "  Returns:\n",
        "    The total power bill amount including tax.\n",
        "  \"\"\"\n",
        "  total_bill_before_tax = 0\n",
        "  remaining_consumption = consumption_kwh\n",
        "\n",
        "  for limit, rate in tiers:\n",
        "    if remaining_consumption <= 0:\n",
        "      break\n",
        "    if remaining_consumption <= limit:\n",
        "      total_bill_before_tax += remaining_consumption * rate\n",
        "      remaining_consumption = 0\n",
        "    else:\n",
        "      total_bill_before_tax += limit * rate\n",
        "      remaining_consumption -= limit\n",
        "\n",
        "  total_bill_before_tax += fixed_charge\n",
        "  total_bill_with_tax = total_bill_before_tax * (1 + tax_rate)\n",
        "  return total_bill_with_tax\n",
        "\n",
        "# Example usage with tiers, fixed charge, and tax:\n",
        "tiers = [(300, 0.10), (300, 0.12), (float('inf'), 0.15)]\n",
        "consumption = 700 # kWh\n",
        "fixed_charge = 10 # $\n",
        "tax_rate = 0.05  # 5% tax\n",
        "bill_with_tax = calculate_power_bill_with_tax(consumption, tiers, fixed_charge, tax_rate)\n",
        "print(f\"Power bill with tiered pricing, fixed charge, and tax: ${bill_with_tax:.2f}\")"
      ],
      "execution_count": null,
      "outputs": []
    }
  ]
}